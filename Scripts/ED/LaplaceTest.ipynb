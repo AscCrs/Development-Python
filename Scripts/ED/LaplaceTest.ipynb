{
 "cells": [
  {
   "cell_type": "code",
   "execution_count": 37,
   "metadata": {},
   "outputs": [],
   "source": [
    "import sympy as sp"
   ]
  },
  {
   "cell_type": "code",
   "execution_count": 38,
   "metadata": {},
   "outputs": [],
   "source": [
    "t = sp.symbols('t', positive=True)\n",
    "s = sp.symbols('s')\n",
    "a = sp.symbols('a', real=True, positive=True)"
   ]
  },
  {
   "cell_type": "code",
   "execution_count": 39,
   "metadata": {},
   "outputs": [
    {
     "data": {
      "text/latex": [
       "$\\displaystyle t e^{- 10 t}$"
      ],
      "text/plain": [
       "t*exp(-10*t)"
      ]
     },
     "execution_count": 39,
     "metadata": {},
     "output_type": "execute_result"
    }
   ],
   "source": [
    "f = t * sp.exp(-10*t)\n",
    "f"
   ]
  },
  {
   "cell_type": "code",
   "execution_count": 40,
   "metadata": {},
   "outputs": [
    {
     "data": {
      "text/latex": [
       "$\\displaystyle \\frac{1}{\\left(s + 10\\right)^{2}}$"
      ],
      "text/plain": [
       "(s + 10)**(-2)"
      ]
     },
     "execution_count": 40,
     "metadata": {},
     "output_type": "execute_result"
    }
   ],
   "source": [
    "F = sp.laplace_transform(f, t, s, noconds = True)\n",
    "F"
   ]
  },
  {
   "cell_type": "code",
   "execution_count": 41,
   "metadata": {},
   "outputs": [
    {
     "data": {
      "text/latex": [
       "$\\displaystyle \\frac{1}{\\left(s + 10\\right)^{2}}$"
      ],
      "text/plain": [
       "(s + 10)**(-2)"
      ]
     },
     "execution_count": 41,
     "metadata": {},
     "output_type": "execute_result"
    }
   ],
   "source": [
    "G = 1/(s + 10)**2\n",
    "G"
   ]
  },
  {
   "cell_type": "code",
   "execution_count": 42,
   "metadata": {},
   "outputs": [
    {
     "data": {
      "text/latex": [
       "$\\displaystyle t e^{- 10 t}$"
      ],
      "text/plain": [
       "t*exp(-10*t)"
      ]
     },
     "execution_count": 42,
     "metadata": {},
     "output_type": "execute_result"
    }
   ],
   "source": [
    "g = sp.inverse_laplace_transform(G, s, t)\n",
    "g"
   ]
  },
  {
   "cell_type": "code",
   "execution_count": 43,
   "metadata": {},
   "outputs": [
    {
     "data": {
      "image/png": "[encoded data removed]",
      "text/plain": [
       "<Figure size 640x480 with 1 Axes>"
      ]
     },
     "metadata": {},
     "output_type": "display_data"
    },
    {
     "data": {
      "text/plain": [
       "<sympy.plotting.plot.Plot at 0x1dfb21fa310>"
      ]
     },
     "execution_count": 43,
     "metadata": {},
     "output_type": "execute_result"
    }
   ],
   "source": [
    "sp.plot(g)"
   ]
  },
  {
   "cell_type": "code",
   "execution_count": 44,
   "metadata": {},
   "outputs": [],
   "source": [
    "import numpy as np"
   ]
  },
  {
   "cell_type": "code",
   "execution_count": 45,
   "metadata": {},
   "outputs": [],
   "source": [
    "def gauss_laplace_inverse(f, T, N):\n",
    "    \"\"\"\n",
    "    Calcula la transformada inversa de Laplace de una función F(s) utilizando el método de cuadratura de Gauss.\n",
    "\n",
    "    Parámetros:\n",
    "    F (función): la función de Laplace F(s).\n",
    "    T (float): el valor de t en el que se quiere evaluar la función inversa de Laplace.\n",
    "    N (int): el número de puntos de la cuadratura de Gauss a utilizar.\n",
    "\n",
    "    Retorna:\n",
    "    El valor de la función inversa de Laplace evaluada en t.\n",
    "    \"\"\"\n",
    "\n",
    "    # Definimos la función a integrar\n",
    "    def integrand(u):\n",
    "        return f(u) * np.exp(u*T)\n",
    "\n",
    "    # Calculamos los puntos y pesos de la cuadratura de Gauss\n",
    "    x, w = np.polynomial.legendre.leggauss(N)\n",
    "\n",
    "    # Convertimos los puntos de la cuadratura de Gauss a nuestro intervalo de integración\n",
    "    a = -1\n",
    "    b = 1\n",
    "    t = 0.5*(b-a)*x + 0.5*(b+a)\n",
    "\n",
    "    # Evaluamos la función en los puntos de la cuadratura de Gauss y multiplicamos por los pesos correspondientes\n",
    "    integrand_values = integrand(t)\n",
    "    integral_value = np.dot(w, integrand_values)\n",
    "\n",
    "    # Dividimos por pi para obtener la función inversa de Laplace\n",
    "    result = integral_value / np.pi\n",
    "\n",
    "    return result"
   ]
  },
  {
   "cell_type": "code",
   "execution_count": 46,
   "metadata": {},
   "outputs": [],
   "source": [
    "def f(s):\n",
    "    return 1 / np.sqrt(s**2 + 1)\n",
    "\n",
    "result = gauss_laplace_inverse(f, 8, 12)"
   ]
  },
  {
   "cell_type": "code",
   "execution_count": 47,
   "metadata": {},
   "outputs": [
    {
     "data": {
      "text/plain": [
       "89.3093534275522"
      ]
     },
     "execution_count": 47,
     "metadata": {},
     "output_type": "execute_result"
    }
   ],
   "source": [
    "result"
   ]
  },
  {
   "cell_type": "code",
   "execution_count": 48,
   "metadata": {},
   "outputs": [],
   "source": [
    "import matplotlib.pyplot as plt\n",
    "import numpy as np"
   ]
  },
  {
   "cell_type": "code",
   "execution_count": 49,
   "metadata": {},
   "outputs": [],
   "source": [
    "def inverse_laplace(F, x0, y0, h, N):\n",
    "   \n",
    "    # Definición del arreglo de puntos\n",
    "    x = np.zeros(N+1)\n",
    "    y = np.zeros(N+1, dtype=np.complex128)\n",
    "    x[0] = x0\n",
    "    y[0] = y0\n",
    "    \n",
    "    # Cálculo de los puntos usando el método de Euler\n",
    "    for n in range(N):\n",
    "        y[n+1] = y[n] + h * (F(x[n]) + F(x[n+1])) / 2\n",
    "        print(F(x[n]) + F(x[n+1]))\n",
    "        x[n+1] = x[n] + h\n",
    "    \n",
    "    # Imprimir los puntos\n",
    "    print(\"Puntos calculados:\")\n",
    "    for n in range(N+1):\n",
    "        print(f\"x_{n} = {x[n]:.4f}   y_{n} = {y[n].real:.4f} + {y[n].imag:.4f}j\")\n",
    "    \n",
    "    # Graficar la función resultante\n",
    "    plt.plot(x, y.real)\n",
    "    plt.plot(x, y.imag)\n",
    "    plt.xlabel('x')\n",
    "    plt.ylabel('y')\n",
    "    plt.legend(['Parte real', 'Parte imaginaria'])\n",
    "    plt.show()"
   ]
  },
  {
   "cell_type": "code",
   "execution_count": 50,
   "metadata": {},
   "outputs": [
    {
     "name": "stdout",
     "output_type": "stream",
     "text": [
      "1.0\n",
      "0.5192307692307693\n",
      "0.504950495049505\n",
      "0.5022123893805309\n",
      "0.5012468827930174\n",
      "0.5007987220447284\n",
      "0.5005549389567148\n",
      "0.5004078303425775\n",
      "0.5003123048094941\n",
      "0.5002467917077986\n",
      "0.5001999200319872\n",
      "0.5001652346331791\n",
      "0.5001388503193558\n",
      "0.5001183151916706\n",
      "0.5001020199959192\n",
      "0.5000888730892286\n",
      "0.5000781127948758\n",
      "0.5000691945751453\n",
      "0.5000617207752129\n",
      "0.5000553955240417\n",
      "Puntos calculados:\n",
      "x_0 = 0.0000   y_0 = 0.0000 + 0.0000j\n",
      "x_1 = 10.0000   y_1 = 5.0000 + 0.0000j\n",
      "x_2 = 20.0000   y_2 = 7.5962 + 0.0000j\n",
      "x_3 = 30.0000   y_3 = 10.1209 + 0.0000j\n",
      "x_4 = 40.0000   y_4 = 12.6320 + 0.0000j\n",
      "x_5 = 50.0000   y_5 = 15.1382 + 0.0000j\n",
      "x_6 = 60.0000   y_6 = 17.6422 + 0.0000j\n",
      "x_7 = 70.0000   y_7 = 20.1450 + 0.0000j\n",
      "x_8 = 80.0000   y_8 = 22.6470 + 0.0000j\n",
      "x_9 = 90.0000   y_9 = 25.1486 + 0.0000j\n",
      "x_10 = 100.0000   y_10 = 27.6498 + 0.0000j\n",
      "x_11 = 110.0000   y_11 = 30.1508 + 0.0000j\n",
      "x_12 = 120.0000   y_12 = 32.6516 + 0.0000j\n",
      "x_13 = 130.0000   y_13 = 35.1523 + 0.0000j\n",
      "x_14 = 140.0000   y_14 = 37.6529 + 0.0000j\n",
      "x_15 = 150.0000   y_15 = 40.1534 + 0.0000j\n",
      "x_16 = 160.0000   y_16 = 42.6539 + 0.0000j\n",
      "x_17 = 170.0000   y_17 = 45.1543 + 0.0000j\n",
      "x_18 = 180.0000   y_18 = 47.6546 + 0.0000j\n",
      "x_19 = 190.0000   y_19 = 50.1549 + 0.0000j\n",
      "x_20 = 200.0000   y_20 = 52.6552 + 0.0000j\n"
     ]
    },
    {
     "data": {
      "image/png": "[encoded data removed]",
      "text/plain": [
       "<Figure size 640x480 with 1 Axes>"
      ]
     },
     "metadata": {},
     "output_type": "display_data"
    }
   ],
   "source": [
    "F_str = '2/(s**2 + 4)'\n",
    "F = lambda s: eval(F_str)  # Definir la función de la transformada de Laplace\n",
    "\n",
    "# Ingreso de los parámetros\n",
    "x0 = 0\n",
    "y0 = 0\n",
    "h = 10\n",
    "N = 20\n",
    "\n",
    "inverse_laplace(F, x0, y0, h, N)"
   ]
  },
  {
   "attachments": {},
   "cell_type": "markdown",
   "metadata": {},
   "source": [
    "Para resolver el ejemplo matemáticamente, primero debemos aplicar la definición de la transformada de Laplace:\n",
    "\n",
    "$$F(s) = \\mathcal{L}{f(t)} = \\int_0^\\infty e^{-st} f(t) dt$$\n",
    "\n",
    "En este caso, tenemos $f(t) = \\frac{1}{t}$, por lo que la transformada de Laplace es:\n",
    "\n",
    "$$F(s) = \\int_0^\\infty e^{-st} \\frac{1}{t} dt$$\n",
    "\n",
    "Esta integral no tiene una solución cerrada, por lo que se debe utilizar algún método numérico para aproximar su valor. En este caso, utilizaremos el método de cuadratura de Gauss.\n",
    "\n",
    "Para aplicar el método de cuadratura de Gauss, primero debemos transformar la integral a una forma en la que se pueda aplicar la cuadratura. Para hacer esto, se realiza un cambio de variable:\n",
    "\n",
    "$$u = st \\Rightarrow du = s dt$$\n",
    "\n",
    "Sustituyendo en la integral, tenemos:\n",
    "\n",
    "$$F(s) = \\int_0^\\infty e^{-u} \\frac{1}{s} \\frac{du}{s} = \\frac{1}{s} \\int_0^\\infty e^{-u} u^{-1} du$$\n",
    "\n",
    "hora podemos aplicar la cuadratura de Gauss a la integral $\\int_0^\\infty e^{-u} u^{-1} du$. Primero, debemos elegir los nodos y los pesos de la cuadratura. Para $N$ nodos, los nodos $u_i$ y los pesos $w_i$ se definen como:\n",
    "\n",
    "$$u_i = \\frac{1}{2}(\\alpha_i + \\beta_i) + \\frac{1}{2}(\\beta_i - \\alpha_i) x_i$$\n",
    "\n",
    "$$w_i = \\frac{1}{2}(\\beta_i - \\alpha_i) A_i$$\n",
    "\n",
    "donde $\\alpha_i$ y $\\beta_i$ son los límites de integración, $x_i$ y $A_i$ son los nodos y pesos de la cuadratura de Gauss-Legendre con $N$ nodos en el intervalo $[-1,1]$.\n",
    "\n",
    "En este caso, los límites de integración son $0$ y $\\infty$, por lo que debemos hacer un cambio de variable para integrar en el intervalo finito $[0,1]$. Para hacer esto, utilizamos el cambio de variable $u = \\frac{t}{1-t}$, por lo que $du = \\frac{1}{(1-t)^2} dt$. Sustituyendo en la integral, tenemos:\n",
    "\n",
    "$$\\int_0^\\infty e^{-u} u^{-1} du = \\int_0^1 e^{-\\frac{t}{1-t}} \\left(\\frac{t}{1-t}\\right)^{-1} \\frac{1}{(1-t)^2} dt = \\int_0^1 \\frac{e^{-t}}{t} dt$$\n",
    "\n",
    "Por lo tanto, la transformada de Laplace es:\n",
    "\n",
    "$$F(s) = \\frac{1}{s} \\int_0^1 \\frac{e^{-t}}{t} dt$$"
   ]
  }
 ],
 "metadata": {
  "kernelspec": {
   "display_name": "Python 3",
   "language": "python",
   "name": "python3"
  },
  "language_info": {
   "codemirror_mode": {
    "name": "ipython",
    "version": 3
   },
   "file_extension": ".py",
   "mimetype": "text/x-python",
   "name": "python",
   "nbconvert_exporter": "python",
   "pygments_lexer": "ipython3",
   "version": "3.11.1"
  },
  "orig_nbformat": 4
 },
 "nbformat": 4,
 "nbformat_minor": 2
}
