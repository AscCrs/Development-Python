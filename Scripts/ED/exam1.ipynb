{
 "cells": [
  {
   "attachments": {},
   "cell_type": "markdown",
   "metadata": {},
   "source": [
    "### Calcular la Transformada de laplace de la siguiente funciones\n",
    "\n",
    "- $L\\left\\lbrace t^2\\cos{t}\\right\\rbrace$\n",
    "\n",
    "Utilizando un metodo de integración númerico\n",
    "\n",
    "Primero se importan las librerias"
   ]
  },
  {
   "cell_type": "code",
   "execution_count": 1,
   "metadata": {},
   "outputs": [],
   "source": [
    "from sympy import *\n",
    "import numpy as np\n",
    "import matplotlib.pyplot as plt\n",
    "from numpy import pi\n",
    "import sympy as sp"
   ]
  },
  {
   "cell_type": "code",
   "execution_count": 2,
   "metadata": {},
   "outputs": [
    {
     "name": "stdout",
     "output_type": "stream",
     "text": [
      "Transformada simbolica\n"
     ]
    },
    {
     "data": {
      "text/latex": [
       "$\\displaystyle \\frac{1}{\\left(s + i\\right)^{3}} + \\frac{1}{\\left(s - i\\right)^{3}}$"
      ],
      "text/plain": [
       "(s + I)**(-3) + (s - I)**(-3)"
      ]
     },
     "execution_count": 2,
     "metadata": {},
     "output_type": "execute_result"
    }
   ],
   "source": [
    "t = symbols('t')\n",
    "s = symbols('s')\n",
    "print(\"Transformada simbolica\")\n",
    "ft = t ** 2 * sp.cos(1*t)\n",
    "F = laplace_transform(ft, t, s, noconds=True)\n",
    "F"
   ]
  },
  {
   "cell_type": "code",
   "execution_count": 3,
   "metadata": {},
   "outputs": [],
   "source": [
    "def laplace_transform():\n",
    "    fs = 10 # frecuencia de muestreo (Hz)\n",
    "    h = 1/fs # periodo de muestreo (seg)\n",
    "    Nomuestras = 100 # numero de muestras en el tiempo\n",
    "    freqmax = fs/2 # Hz\n",
    "    sigm = 1.5 # abcisa de convergencia\n",
    "    k = 1\n",
    "    paso = 0.1 # incremento de la variable de Laplace\n",
    "    ww = 0\n",
    "    ppe = np.zeros(Nomuestras+1)\n",
    "    xx = np.zeros(Nomuestras+1)\n",
    "    Laplacer = np.zeros(int(freqmax/paso)+ Nomuestras)\n",
    "    Laplacei = np.zeros(int(freqmax/paso)+ Nomuestras)\n",
    "    for fo in np.arange(-freqmax, freqmax+paso, paso):\n",
    "        Laplar = 0 # parte real\n",
    "        Laplai = 0 # parte imaginaria\n",
    "        for it in range(1, Nomuestras+1):\n",
    "            i = int(it)\n",
    "            t = i * h # instante de muestreo\n",
    "            #pp = lambda i: t\n",
    "            ppe[i] = t\n",
    "            xt = t**2 * cos(t) # funcion del tiempo a encontrar su LT\n",
    "            Laplar = xt*exp(-sigm*t)*np.cos(2*pi*fo*t)*h+Laplar\n",
    "            Laplai = (-1)*xt*exp(-sigm*t)*np.sin(2*pi*fo*t)*h+Laplai\n",
    "            #xxi = lambda i: xt # eje de la funcion\n",
    "            xx[i] = xt\n",
    "        #Laplacerlam = lambda k: Laplar\n",
    "        Laplacer[k - 1] = Laplar\n",
    "        #Laplaceilam = lambda k: Laplai\n",
    "        Laplacei[k - 1] = Laplai\n",
    "\n",
    "        ww = 2*pi*fo # eje de frecuencias\n",
    "        k += 1\n",
    "\n",
    "    fig, (ax1, ax2) = plt.subplots(nrows=2, ncols=1)\n",
    "    ax1.plot(ppe, xx)\n",
    "    ax1.axis([0, 2, -2, 2])\n",
    "    ax1.set_title('Funcion f(t)')\n",
    "    p = 1\n",
    "    print(\"Parte real\")\n",
    "    print(Laplacer)\n",
    "    print(\"Parte imaginaria\")\n",
    "    print(Laplacei)\n",
    "    sigma = 1.5\n",
    "    Lainversatr=0;\n",
    "    Lainversati=0;\n",
    "    Lainversar = np.zeros(500)\n",
    "    Lainversai = np.zeros(500)\n",
    "    tte = np.zeros(500)\n",
    "    for v in np.arange(-freqmax, freqmax+paso, paso):\n",
    "        for m in range(1, Nomuestras+2):\n",
    "            t = m*h\n",
    "            #tt = lambda m: t\n",
    "            tte[m - 1] = t\n",
    "            laplainvr = Laplacer[p - 1]*np.exp(sigma*t)*np.cos(2*np.pi*v*t)*paso\n",
    "            laplainvr = laplainvr - Laplacei[p - 1]*np.exp(sigma*t)*np.sin(2*np.pi*v*t)*paso\n",
    "            laplainvi = Laplacei[p - 1]*np.exp(sigma*t)*np.cos(2*np.pi*v*t)*paso\n",
    "            laplainvi = laplainvi + Laplacer[p - 1]*np.exp(sigma*t)*np.sin(2*np.pi*v*t)*paso\n",
    "            #Lainversare = lambda m: laplainvr\n",
    "            #Lainversaim = lambda m: laplainvi\n",
    "            Lainversar[m - 1] = laplainvr\n",
    "            Lainversai[m - 1] = laplainvi\n",
    "\n",
    "        if v == 5:\n",
    "            # graficar parte real en eje ax2_1\n",
    "            ax2_1 = ax2.twinx()\n",
    "            ax2_1.plot(tte, Lainversar, color='red')\n",
    "            ax2_1.axis([0, 2, -0.1, 0.1])\n",
    "            ax2_1.set_ylabel('Re[Componente de 5Hz]', color='red')\n",
    "\n",
    "            # graficar parte imaginaria en eje ax2_2\n",
    "            ax2_2 = ax2.twinx()\n",
    "            ax2_2.spines[\"right\"].set_position((\"axes\", 1.1))\n",
    "            ax2_2.plot(tte, Lainversai, color='blue')\n",
    "            ax2_2.axis([0, 2, -0.1, 0.1])\n",
    "            ax2_2.set_ylabel('Im[Componente de 5Hz]', color='blue')\n",
    "\n",
    "            # configurar título del eje ax2\n",
    "            ax2.set_title('Componente de 5Hz')\n",
    "    \n",
    "        Lainversatr = Lainversatr + Lainversar\n",
    "        Lainversati = Lainversati + Lainversai\n",
    "        p = p + 1\n",
    "    plt.show()\n"
   ]
  },
  {
   "attachments": {},
   "cell_type": "markdown",
   "metadata": {},
   "source": [
    "Resultado:"
   ]
  },
  {
   "cell_type": "code",
   "execution_count": 4,
   "metadata": {},
   "outputs": [
    {
     "name": "stdout",
     "output_type": "stream",
     "text": [
      "Parte real\n",
      "[-1.99536191e-05 -2.00279918e-05 -2.02523675e-05 -2.06305546e-05\n",
      " -2.11690243e-05 -2.18771016e-05 -2.27672451e-05 -2.38554279e-05\n",
      " -2.51616382e-05 -2.67105242e-05 -2.85322144e-05 -3.06633582e-05\n",
      " -3.31484414e-05 -3.60414532e-05 -3.94080016e-05 -4.33280122e-05\n",
      " -4.78991841e-05 -5.32414462e-05 -5.95027365e-05 -6.68665549e-05\n",
      " -7.55619089e-05 -8.58765226e-05 -9.81745375e-05 -1.12920467e-04\n",
      " -1.30711950e-04 -1.52325045e-04 -1.78777612e-04 -2.11419185e-04\n",
      " -2.52060168e-04 -3.03160408e-04 -3.68108971e-04 -4.51646653e-04\n",
      " -5.60516525e-04 -7.04486875e-04 -8.97997195e-04 -1.16287401e-03\n",
      " -1.53293635e-03 -2.06204097e-03 -2.83859122e-03 -4.01258696e-03\n",
      " -5.84773277e-03 -8.82457868e-03 -1.38463148e-02 -2.26276970e-02\n",
      " -3.82216055e-02 -6.41351687e-02 -9.08398287e-02 -3.41716600e-02\n",
      "  1.98508188e-01  1.29491945e-01 -6.55401004e-02  1.29491945e-01\n",
      "  1.98508188e-01 -3.41716600e-02 -9.08398287e-02 -6.41351687e-02\n",
      " -3.82216055e-02 -2.26276970e-02 -1.38463148e-02 -8.82457868e-03\n",
      " -5.84773277e-03 -4.01258696e-03 -2.83859122e-03 -2.06204097e-03\n",
      " -1.53293635e-03 -1.16287401e-03 -8.97997195e-04 -7.04486875e-04\n",
      " -5.60516525e-04 -4.51646653e-04 -3.68108971e-04 -3.03160408e-04\n",
      " -2.52060168e-04 -2.11419185e-04 -1.78777612e-04 -1.52325045e-04\n",
      " -1.30711950e-04 -1.12920467e-04 -9.81745375e-05 -8.58765226e-05\n",
      " -7.55619089e-05 -6.68665549e-05 -5.95027365e-05 -5.32414462e-05\n",
      " -4.78991841e-05 -4.33280122e-05 -3.94080016e-05 -3.60414532e-05\n",
      " -3.31484414e-05 -3.06633582e-05 -2.85322144e-05 -2.67105242e-05\n",
      " -2.51616382e-05 -2.38554279e-05 -2.27672451e-05 -2.18771016e-05\n",
      " -2.11690243e-05 -2.06305546e-05 -2.02523675e-05 -2.00279918e-05\n",
      " -1.99536191e-05  0.00000000e+00  0.00000000e+00  0.00000000e+00\n",
      "  0.00000000e+00  0.00000000e+00  0.00000000e+00  0.00000000e+00\n",
      "  0.00000000e+00  0.00000000e+00  0.00000000e+00  0.00000000e+00\n",
      "  0.00000000e+00  0.00000000e+00  0.00000000e+00  0.00000000e+00\n",
      "  0.00000000e+00  0.00000000e+00  0.00000000e+00  0.00000000e+00\n",
      "  0.00000000e+00  0.00000000e+00  0.00000000e+00  0.00000000e+00\n",
      "  0.00000000e+00  0.00000000e+00  0.00000000e+00  0.00000000e+00\n",
      "  0.00000000e+00  0.00000000e+00  0.00000000e+00  0.00000000e+00\n",
      "  0.00000000e+00  0.00000000e+00  0.00000000e+00  0.00000000e+00\n",
      "  0.00000000e+00  0.00000000e+00  0.00000000e+00  0.00000000e+00\n",
      "  0.00000000e+00  0.00000000e+00  0.00000000e+00  0.00000000e+00\n",
      "  0.00000000e+00  0.00000000e+00  0.00000000e+00  0.00000000e+00\n",
      "  0.00000000e+00  0.00000000e+00]\n",
      "Parte imaginaria\n",
      "[ 9.48389795e-17 -7.72372588e-06 -1.55079289e-05 -2.34140855e-05\n",
      " -3.15056985e-05 -3.98493824e-05 -4.85160374e-05 -5.75821500e-05\n",
      " -6.71312590e-05 -7.72556380e-05 -8.80582538e-05 -9.96550710e-05\n",
      " -1.12177796e-04 -1.25777171e-04 -1.40626965e-04 -1.56928837e-04\n",
      " -1.74918316e-04 -1.94872199e-04 -2.17117755e-04 -2.42044278e-04\n",
      " -2.70117660e-04 -3.01898916e-04 -3.38067904e-04 -3.79453919e-04\n",
      " -4.27075445e-04 -4.82192241e-04 -5.46374129e-04 -6.21592615e-04\n",
      " -7.10343967e-04 -8.15815970e-04 -9.42115731e-04 -1.09458327e-03\n",
      " -1.28022587e-03 -1.50832185e-03 -1.79125842e-03 -2.14568112e-03\n",
      " -2.59401986e-03 -3.16635128e-03 -3.90214610e-03 -4.85008330e-03\n",
      " -6.05973408e-03 -7.54482311e-03 -9.15126773e-03 -1.01056805e-02\n",
      " -7.49053569e-03  8.61220363e-03  6.58101171e-02  1.85395610e-01\n",
      "  1.47562809e-01 -1.23754521e-01 -4.46377697e-14  1.23754521e-01\n",
      " -1.47562809e-01 -1.85395610e-01 -6.58101171e-02 -8.61220363e-03\n",
      "  7.49053569e-03  1.01056805e-02  9.15126773e-03  7.54482311e-03\n",
      "  6.05973408e-03  4.85008330e-03  3.90214610e-03  3.16635128e-03\n",
      "  2.59401986e-03  2.14568112e-03  1.79125842e-03  1.50832185e-03\n",
      "  1.28022587e-03  1.09458327e-03  9.42115731e-04  8.15815970e-04\n",
      "  7.10343967e-04  6.21592615e-04  5.46374129e-04  4.82192241e-04\n",
      "  4.27075445e-04  3.79453919e-04  3.38067904e-04  3.01898916e-04\n",
      "  2.70117660e-04  2.42044278e-04  2.17117755e-04  1.94872199e-04\n",
      "  1.74918316e-04  1.56928837e-04  1.40626965e-04  1.25777171e-04\n",
      "  1.12177796e-04  9.96550710e-05  8.80582538e-05  7.72556380e-05\n",
      "  6.71312590e-05  5.75821500e-05  4.85160374e-05  3.98493824e-05\n",
      "  3.15056985e-05  2.34140855e-05  1.55079289e-05  7.72372588e-06\n",
      " -2.68182921e-16  0.00000000e+00  0.00000000e+00  0.00000000e+00\n",
      "  0.00000000e+00  0.00000000e+00  0.00000000e+00  0.00000000e+00\n",
      "  0.00000000e+00  0.00000000e+00  0.00000000e+00  0.00000000e+00\n",
      "  0.00000000e+00  0.00000000e+00  0.00000000e+00  0.00000000e+00\n",
      "  0.00000000e+00  0.00000000e+00  0.00000000e+00  0.00000000e+00\n",
      "  0.00000000e+00  0.00000000e+00  0.00000000e+00  0.00000000e+00\n",
      "  0.00000000e+00  0.00000000e+00  0.00000000e+00  0.00000000e+00\n",
      "  0.00000000e+00  0.00000000e+00  0.00000000e+00  0.00000000e+00\n",
      "  0.00000000e+00  0.00000000e+00  0.00000000e+00  0.00000000e+00\n",
      "  0.00000000e+00  0.00000000e+00  0.00000000e+00  0.00000000e+00\n",
      "  0.00000000e+00  0.00000000e+00  0.00000000e+00  0.00000000e+00\n",
      "  0.00000000e+00  0.00000000e+00  0.00000000e+00  0.00000000e+00\n",
      "  0.00000000e+00  0.00000000e+00]\n"
     ]
    },
    {
     "data": {
      "image/png": "[encoded data removed]",
      "text/plain": [
       "<Figure size 640x480 with 2 Axes>"
      ]
     },
     "metadata": {},
     "output_type": "display_data"
    }
   ],
   "source": [
    "\n",
    "laplace_transform()"
   ]
  }
 ],
 "metadata": {
  "kernelspec": {
   "display_name": "Python 3",
   "language": "python",
   "name": "python3"
  },
  "language_info": {
   "codemirror_mode": {
    "name": "ipython",
    "version": 3
   },
   "file_extension": ".py",
   "mimetype": "text/x-python",
   "name": "python",
   "nbconvert_exporter": "python",
   "pygments_lexer": "ipython3",
   "version": "3.11.1"
  },
  "orig_nbformat": 4
 },
 "nbformat": 4,
 "nbformat_minor": 2
}
