{
 "cells": [
  {
   "attachments": {},
   "cell_type": "markdown",
   "metadata": {},
   "source": [
    "### Calcular la Transformada de laplace de la siguiente funciones\n",
    "- $L\\left\\lbrace te^{-10t}\\right\\rbrace$\n",
    "\n",
    "Utilizando un metodo de integración númerico\n",
    "\n",
    "Primero se importan las librerias"
   ]
  },
  {
   "cell_type": "code",
   "execution_count": 1,
   "metadata": {},
   "outputs": [],
   "source": [
    "from sympy import *\n",
    "import numpy as np\n",
    "import matplotlib.pyplot as plt\n",
    "from numpy import pi\n",
    "import sympy as sp"
   ]
  },
  {
   "cell_type": "code",
   "execution_count": 2,
   "metadata": {},
   "outputs": [
    {
     "name": "stdout",
     "output_type": "stream",
     "text": [
      "Transformada simbolica\n"
     ]
    },
    {
     "data": {
      "text/latex": [
       "$\\displaystyle \\frac{1}{\\left(s + 10\\right)^{2}}$"
      ],
      "text/plain": [
       "(s + 10)**(-2)"
      ]
     },
     "execution_count": 2,
     "metadata": {},
     "output_type": "execute_result"
    }
   ],
   "source": [
    "t = symbols('t')\n",
    "s = symbols('s')\n",
    "print(\"Transformada simbolica\")\n",
    "ft = t * sp.exp(-10 * t)\n",
    "F = laplace_transform(ft, t, s, noconds=True)\n",
    "F"
   ]
  },
  {
   "cell_type": "code",
   "execution_count": 3,
   "metadata": {},
   "outputs": [],
   "source": [
    "def laplace_transform():\n",
    "    fs = 10 # frecuencia de muestreo (Hz)\n",
    "    h = 1/fs # periodo de muestreo (seg)\n",
    "    Nomuestras = 100 # numero de muestras en el tiempo\n",
    "    freqmax = fs/2 # Hz\n",
    "    sigm = 1.5 # abcisa de convergencia\n",
    "    k = 1\n",
    "    paso = 0.1 # incremento de la variable de Laplace\n",
    "    ww = 0\n",
    "    ppe = np.zeros(Nomuestras+1)\n",
    "    xx = np.zeros(Nomuestras+1)\n",
    "    Laplacer = np.zeros(int(freqmax/paso)+ Nomuestras)\n",
    "    Laplacei = np.zeros(int(freqmax/paso)+ Nomuestras)\n",
    "    for fo in np.arange(-freqmax, freqmax+paso, paso):\n",
    "        Laplar = 0 # parte real\n",
    "        Laplai = 0 # parte imaginaria\n",
    "        for it in range(1, Nomuestras+1):\n",
    "            i = int(it)\n",
    "            t = i * h # instante de muestreo\n",
    "            #pp = lambda i: t\n",
    "            ppe[i] = t\n",
    "            xt = t * np.exp(-10 * t) # funcion del tiempo a encontrar su LT\n",
    "            Laplar = xt*exp(-sigm*t)*np.cos(2*pi*fo*t)*h+Laplar\n",
    "            Laplai = (-1)*xt*exp(-sigm*t)*np.sin(2*pi*fo*t)*h+Laplai\n",
    "            #xxi = lambda i: xt # eje de la funcion\n",
    "            xx[i] = xt\n",
    "        #Laplacerlam = lambda k: Laplar\n",
    "        Laplacer[k - 1] = Laplar\n",
    "        #Laplaceilam = lambda k: Laplai\n",
    "        Laplacei[k - 1] = Laplai\n",
    "\n",
    "        ww = 2*pi*fo # eje de frecuencias\n",
    "        k += 1\n",
    "\n",
    "    fig, (ax1, ax2) = plt.subplots(nrows=2, ncols=1)\n",
    "    ax1.plot(ppe, xx)\n",
    "    ax1.axis([0, 2, -2, 2])\n",
    "    ax1.set_title('Funcion f(t)')\n",
    "    p = 1\n",
    "    print(\"Parte real\")\n",
    "    print(Laplacer)\n",
    "    print(\"Parte imaginaria\")\n",
    "    print(Laplacei)\n",
    "    sigma = 1.5\n",
    "    Lainversatr=0;\n",
    "    Lainversati=0;\n",
    "    Lainversar = np.zeros(500)\n",
    "    Lainversai = np.zeros(500)\n",
    "    tte = np.zeros(500)\n",
    "    for v in np.arange(-freqmax, freqmax+paso, paso):\n",
    "        for m in range(1, Nomuestras+2):\n",
    "            t = m*h\n",
    "            #tt = lambda m: t\n",
    "            tte[m - 1] = t\n",
    "            laplainvr = Laplacer[p - 1]*np.exp(sigma*t)*np.cos(2*np.pi*v*t)*paso\n",
    "            laplainvr = laplainvr - Laplacei[p - 1]*np.exp(sigma*t)*np.sin(2*np.pi*v*t)*paso\n",
    "            laplainvi = Laplacei[p - 1]*np.exp(sigma*t)*np.cos(2*np.pi*v*t)*paso\n",
    "            laplainvi = laplainvi + Laplacer[p - 1]*np.exp(sigma*t)*np.sin(2*np.pi*v*t)*paso\n",
    "            #Lainversare = lambda m: laplainvr\n",
    "            #Lainversaim = lambda m: laplainvi\n",
    "            Lainversar[m - 1] = laplainvr\n",
    "            Lainversai[m - 1] = laplainvi\n",
    "\n",
    "        if v == 5:\n",
    "            # graficar parte real en eje ax2_1\n",
    "            ax2_1 = ax2.twinx()\n",
    "            ax2_1.plot(tte, Lainversar, color='red')\n",
    "            ax2_1.axis([0, 2, -0.1, 0.1])\n",
    "            ax2_1.set_ylabel('Re[Componente de 5Hz]', color='red')\n",
    "\n",
    "            # graficar parte imaginaria en eje ax2_2\n",
    "            ax2_2 = ax2.twinx()\n",
    "            ax2_2.spines[\"right\"].set_position((\"axes\", 1.1))\n",
    "            ax2_2.plot(tte, Lainversai, color='blue')\n",
    "            ax2_2.axis([0, 2, -0.1, 0.1])\n",
    "            ax2_2.set_ylabel('Im[Componente de 5Hz]', color='blue')\n",
    "\n",
    "            # configurar título del eje ax2\n",
    "            ax2.set_title('Componente de 5Hz')\n",
    "    \n",
    "        Lainversatr = Lainversatr + Lainversar\n",
    "        Lainversati = Lainversati + Lainversai\n",
    "        p = p + 1\n",
    "    plt.show()\n"
   ]
  },
  {
   "attachments": {},
   "cell_type": "markdown",
   "metadata": {},
   "source": [
    "Resultado:"
   ]
  },
  {
   "cell_type": "code",
   "execution_count": 4,
   "metadata": {},
   "outputs": [
    {
     "name": "stdout",
     "output_type": "stream",
     "text": [
      "Parte real\n",
      "[-1.82654084e-03 -1.82688613e-03 -1.82791517e-03 -1.82960737e-03\n",
      " -1.83192774e-03 -1.83482595e-03 -1.83823497e-03 -1.84206921e-03\n",
      " -1.84622220e-03 -1.85056370e-03 -1.85493618e-03 -1.85915062e-03\n",
      " -1.86298146e-03 -1.86616071e-03 -1.86837093e-03 -1.86923711e-03\n",
      " -1.86831715e-03 -1.86509094e-03 -1.85894770e-03 -1.84917160e-03\n",
      " -1.83492545e-03 -1.81523241e-03 -1.78895579e-03 -1.75477716e-03\n",
      " -1.71117308e-03 -1.65639134e-03 -1.58842787e-03 -1.50500624e-03\n",
      " -1.40356243e-03 -1.28123898e-03 -1.13489354e-03 -9.61129116e-04\n",
      " -7.56354872e-04 -5.16888350e-04 -2.39111766e-04  8.03043502e-05\n",
      "  4.44097879e-04  8.54023891e-04  1.31037565e-03  1.81143231e-03\n",
      "  2.35286875e-03  2.92719024e-03  3.52328464e-03  4.12621140e-03\n",
      "  4.71735863e-03  5.27508510e-03  5.77591164e-03  6.19623415e-03\n",
      "  6.51440954e-03  6.71294547e-03  6.78044397e-03  6.71294547e-03\n",
      "  6.51440954e-03  6.19623415e-03  5.77591164e-03  5.27508510e-03\n",
      "  4.71735863e-03  4.12621140e-03  3.52328464e-03  2.92719024e-03\n",
      "  2.35286875e-03  1.81143231e-03  1.31037565e-03  8.54023891e-04\n",
      "  4.44097879e-04  8.03043502e-05 -2.39111766e-04 -5.16888350e-04\n",
      " -7.56354872e-04 -9.61129116e-04 -1.13489354e-03 -1.28123898e-03\n",
      " -1.40356243e-03 -1.50500624e-03 -1.58842787e-03 -1.65639134e-03\n",
      " -1.71117308e-03 -1.75477716e-03 -1.78895579e-03 -1.81523241e-03\n",
      " -1.83492545e-03 -1.84917160e-03 -1.85894770e-03 -1.86509094e-03\n",
      " -1.86831715e-03 -1.86923711e-03 -1.86837093e-03 -1.86616071e-03\n",
      " -1.86298146e-03 -1.85915062e-03 -1.85493618e-03 -1.85056370e-03\n",
      " -1.84622220e-03 -1.84206921e-03 -1.83823497e-03 -1.83482595e-03\n",
      " -1.83192774e-03 -1.82960737e-03 -1.82791517e-03 -1.82688613e-03\n",
      " -1.82654084e-03  0.00000000e+00  0.00000000e+00  0.00000000e+00\n",
      "  0.00000000e+00  0.00000000e+00  0.00000000e+00  0.00000000e+00\n",
      "  0.00000000e+00  0.00000000e+00  0.00000000e+00  0.00000000e+00\n",
      "  0.00000000e+00  0.00000000e+00  0.00000000e+00  0.00000000e+00\n",
      "  0.00000000e+00  0.00000000e+00  0.00000000e+00  0.00000000e+00\n",
      "  0.00000000e+00  0.00000000e+00  0.00000000e+00  0.00000000e+00\n",
      "  0.00000000e+00  0.00000000e+00  0.00000000e+00  0.00000000e+00\n",
      "  0.00000000e+00  0.00000000e+00  0.00000000e+00  0.00000000e+00\n",
      "  0.00000000e+00  0.00000000e+00  0.00000000e+00  0.00000000e+00\n",
      "  0.00000000e+00  0.00000000e+00  0.00000000e+00  0.00000000e+00\n",
      "  0.00000000e+00  0.00000000e+00  0.00000000e+00  0.00000000e+00\n",
      "  0.00000000e+00  0.00000000e+00  0.00000000e+00  0.00000000e+00\n",
      "  0.00000000e+00  0.00000000e+00]\n",
      "Parte imaginaria\n",
      "[-1.44060387e-18  5.96122400e-05  1.19505226e-04  1.79961606e-04\n",
      "  2.41267838e-04  3.03716080e-04  3.67606087e-04  4.33247072e-04\n",
      "  5.00959547e-04  5.71077092e-04  6.43948039e-04  7.19937005e-04\n",
      "  7.99426218e-04  8.82816532e-04  9.70528011e-04  1.06299992e-03\n",
      "  1.16068989e-03  1.26407199e-03  1.37363337e-03  1.48986894e-03\n",
      "  1.61327353e-03  1.74433090e-03  1.88349847e-03  2.03118691e-03\n",
      "  2.18773302e-03  2.35336449e-03  2.52815463e-03  2.71196506e-03\n",
      "  2.90437422e-03  3.10458982e-03  3.31134326e-03  3.52276565e-03\n",
      "  3.73624605e-03  3.94827547e-03  4.15428422e-03  4.34848553e-03\n",
      "  4.52374600e-03  4.67151185e-03  4.78182976e-03  4.84350886e-03\n",
      "  4.84447464e-03  4.77236031e-03  4.61536313e-03  4.36335665e-03\n",
      "  4.00919485e-03  3.55007589e-03  2.98876546e-03  2.33443537e-03\n",
      "  1.60287661e-03  8.15915906e-04  1.45808413e-16 -8.15915906e-04\n",
      " -1.60287661e-03 -2.33443537e-03 -2.98876546e-03 -3.55007589e-03\n",
      " -4.00919485e-03 -4.36335665e-03 -4.61536313e-03 -4.77236031e-03\n",
      " -4.84447464e-03 -4.84350886e-03 -4.78182976e-03 -4.67151185e-03\n",
      " -4.52374600e-03 -4.34848553e-03 -4.15428422e-03 -3.94827547e-03\n",
      " -3.73624605e-03 -3.52276565e-03 -3.31134326e-03 -3.10458982e-03\n",
      " -2.90437422e-03 -2.71196506e-03 -2.52815463e-03 -2.35336449e-03\n",
      " -2.18773302e-03 -2.03118691e-03 -1.88349847e-03 -1.74433090e-03\n",
      " -1.61327353e-03 -1.48986894e-03 -1.37363337e-03 -1.26407199e-03\n",
      " -1.16068989e-03 -1.06299992e-03 -9.70528011e-04 -8.82816532e-04\n",
      " -7.99426218e-04 -7.19937005e-04 -6.43948039e-04 -5.71077092e-04\n",
      " -5.00959547e-04 -4.33247072e-04 -3.67606087e-04 -3.03716080e-04\n",
      " -2.41267838e-04 -1.79961606e-04 -1.19505226e-04 -5.96122400e-05\n",
      " -2.05955459e-17  0.00000000e+00  0.00000000e+00  0.00000000e+00\n",
      "  0.00000000e+00  0.00000000e+00  0.00000000e+00  0.00000000e+00\n",
      "  0.00000000e+00  0.00000000e+00  0.00000000e+00  0.00000000e+00\n",
      "  0.00000000e+00  0.00000000e+00  0.00000000e+00  0.00000000e+00\n",
      "  0.00000000e+00  0.00000000e+00  0.00000000e+00  0.00000000e+00\n",
      "  0.00000000e+00  0.00000000e+00  0.00000000e+00  0.00000000e+00\n",
      "  0.00000000e+00  0.00000000e+00  0.00000000e+00  0.00000000e+00\n",
      "  0.00000000e+00  0.00000000e+00  0.00000000e+00  0.00000000e+00\n",
      "  0.00000000e+00  0.00000000e+00  0.00000000e+00  0.00000000e+00\n",
      "  0.00000000e+00  0.00000000e+00  0.00000000e+00  0.00000000e+00\n",
      "  0.00000000e+00  0.00000000e+00  0.00000000e+00  0.00000000e+00\n",
      "  0.00000000e+00  0.00000000e+00  0.00000000e+00  0.00000000e+00\n",
      "  0.00000000e+00  0.00000000e+00]\n"
     ]
    },
    {
     "data": {
      "image/png": "[encoded data removed]",
      "text/plain": [
       "<Figure size 640x480 with 2 Axes>"
      ]
     },
     "metadata": {},
     "output_type": "display_data"
    }
   ],
   "source": [
    "\n",
    "laplace_transform()"
   ]
  }
 ],
 "metadata": {
  "kernelspec": {
   "display_name": "Python 3",
   "language": "python",
   "name": "python3"
  },
  "language_info": {
   "codemirror_mode": {
    "name": "ipython",
    "version": 3
   },
   "file_extension": ".py",
   "mimetype": "text/x-python",
   "name": "python",
   "nbconvert_exporter": "python",
   "pygments_lexer": "ipython3",
   "version": "3.11.1"
  },
  "orig_nbformat": 4
 },
 "nbformat": 4,
 "nbformat_minor": 2
}
