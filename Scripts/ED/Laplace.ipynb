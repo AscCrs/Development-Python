{
 "cells": [
  {
   "attachments": {},
   "cell_type": "markdown",
   "metadata": {},
   "source": [
    "# Aplicar aproximaciones a para resolver transformadas de laplace de forma numerica"
   ]
  },
  {
   "cell_type": "code",
   "execution_count": 2,
   "metadata": {},
   "outputs": [],
   "source": [
    "import numpy as np\n",
    "from scipy.integrate import simps, trapz\n",
    "from scipy.fftpack import ifft"
   ]
  },
  {
   "attachments": {},
   "cell_type": "markdown",
   "metadata": {},
   "source": [
    "Aproximacion de la transformada de laplace de la funcion f(t) utilizando el \n",
    "metodo de Simpson"
   ]
  },
  {
   "cell_type": "code",
   "execution_count": 3,
   "metadata": {},
   "outputs": [],
   "source": [
    "def laplace_transform(func, t, s):\n",
    "    F = np.zeros_like(s)\n",
    "    for i, si in enumerate(s):\n",
    "        integrand = lambda t: func(t) * np.exp(-si *  t)\n",
    "        F[i] = simps(integrand(t), t)\n",
    "    return F"
   ]
  },
  {
   "attachments": {},
   "cell_type": "markdown",
   "metadata": {},
   "source": [
    "Evaluacion para una funcion t**2"
   ]
  },
  {
   "cell_type": "code",
   "execution_count": 4,
   "metadata": {},
   "outputs": [],
   "source": [
    "def func(t):\n",
    "    return t**2"
   ]
  },
  {
   "cell_type": "code",
   "execution_count": 5,
   "metadata": {},
   "outputs": [],
   "source": [
    "t = np.linspace(0, 10, 1000)\n",
    "s = np.array([1 + 1j, 2 + 2j, 3 + 3j])"
   ]
  },
  {
   "cell_type": "code",
   "execution_count": 6,
   "metadata": {},
   "outputs": [
    {
     "data": {
      "text/plain": [
       "array([-0.49960854-0.50352725j, -0.06249989-0.06249993j,\n",
       "       -0.01851844-0.01851852j])"
      ]
     },
     "execution_count": 6,
     "metadata": {},
     "output_type": "execute_result"
    }
   ],
   "source": [
    "F = laplace_transform(func, t, s)\n",
    "F"
   ]
  },
  {
   "cell_type": "code",
   "execution_count": 12,
   "metadata": {},
   "outputs": [],
   "source": [
    "def inverse_laplace(f, tmax, N):\n",
    "    # Definir la malla de tiempo\n",
    "    t = np.linspace(0, tmax, N)\n",
    "\n",
    "    # Calcular la malla de frecuencia\n",
    "    omega = 2 * np.pi * np.fft.fftfreq(N, tmax/N)\n",
    "\n",
    "    # Calcular la malla de la transformada de laplace\n",
    "    s = 1j * omega\n",
    "\n",
    "    #Calcular la funcion F(s)\n",
    "    Fs = f(s)\n",
    "\n",
    "    #Calcular la integral de la transformada de laplace\n",
    "    int_trapz = trapz(Fs * np.exp(s * t[:, np.newaxis]), s, axis = 1)\n",
    "    int_simps = simps(Fs * np.exp(s * t[:, np.newaxis]), s, axis = 1)\n",
    "\n",
    "    #Calcular la transformmada inversa de Fourier\n",
    "    f_trapz = np.real(ifft(int_trapz))\n",
    "    f_simps = np.real(ifft(int_simps))\n",
    "\n",
    "    # Solucion\n",
    "\n",
    "    return t, f_trapz, f_simps"
   ]
  },
  {
   "cell_type": "code",
   "execution_count": 8,
   "metadata": {},
   "outputs": [],
   "source": [
    "def f(s):\n",
    "    return 1/(s ** 2 + 1)"
   ]
  },
  {
   "cell_type": "code",
   "execution_count": 15,
   "metadata": {},
   "outputs": [
    {
     "name": "stderr",
     "output_type": "stream",
     "text": [
      "c:\\Users\\crist\\AppData\\Local\\Programs\\Python\\Python311\\Lib\\site-packages\\scipy\\integrate\\_quadrature.py:507: ComplexWarning: Casting complex values to real discards the imaginary part\n",
      "  h0 = np.float64(h[sl0])\n",
      "c:\\Users\\crist\\AppData\\Local\\Programs\\Python\\Python311\\Lib\\site-packages\\scipy\\integrate\\_quadrature.py:508: ComplexWarning: Casting complex values to real discards the imaginary part\n",
      "  h1 = np.float64(h[sl1])\n"
     ]
    }
   ],
   "source": [
    "tmax = 1\n",
    "N = 100\n",
    "\n",
    "t, f_trapz, f_simps = inverse_laplace(f, tmax, N)"
   ]
  },
  {
   "cell_type": "code",
   "execution_count": 16,
   "metadata": {},
   "outputs": [
    {
     "data": {
      "text/plain": [
       "array([-4.70977424e-18, -2.66084052e-03, -2.60269081e-03, -1.72084153e-03,\n",
       "       -1.28150055e-03, -1.01611217e-03, -8.37140949e-04, -7.07399270e-04,\n",
       "       -6.08379186e-04, -5.29827835e-04, -4.65605499e-04, -4.11810644e-04,\n",
       "       -3.65845004e-04, -3.25911102e-04, -2.90725507e-04, -2.59346928e-04,\n",
       "       -2.31068821e-04, -2.05349896e-04, -1.81767751e-04, -1.59987095e-04,\n",
       "       -1.39737435e-04, -1.20797050e-04, -1.02981225e-04, -8.61334320e-05,\n",
       "       -7.01185497e-05, -5.48175253e-05, -4.01230235e-05, -2.59357449e-05,\n",
       "       -1.21611540e-05,  1.29360154e-06,  1.45227857e-05,  2.76254004e-05,\n",
       "        4.07089982e-05,  5.38943104e-05,  6.73211468e-05,  8.11562326e-05,\n",
       "        9.56039940e-05,  1.10921888e-04,  1.27442879e-04,  1.45609473e-04,\n",
       "        1.66027048e-04,  1.89550783e-04,  2.17433881e-04,  2.51594389e-04,\n",
       "        2.95128391e-04,  3.53383193e-04,  4.36461351e-04,  5.66015019e-04,\n",
       "        7.98325577e-04,  1.33944223e-03,  4.02869946e-03, -4.16620501e-03,\n",
       "       -1.40104763e-03, -8.52984985e-04, -6.18290202e-04, -4.87439653e-04,\n",
       "       -4.03467065e-04, -3.44505179e-04, -3.00363826e-04, -2.65653338e-04,\n",
       "       -2.37254410e-04, -2.13234925e-04, -1.92332387e-04, -1.73684978e-04,\n",
       "       -1.56682197e-04, -1.40877286e-04, -1.25933494e-04, -1.11589768e-04,\n",
       "       -9.76380760e-05, -8.39079099e-05, -7.02553450e-05, -5.65550500e-05,\n",
       "       -4.26942183e-05, -2.85677457e-05, -1.40741836e-05,  8.87877461e-07,\n",
       "        1.64232695e-05,  3.26438016e-05,  4.96721509e-05,  6.76463674e-05,\n",
       "        8.67253302e-05,  1.07095603e-04,  1.28980308e-04,  1.52650915e-04,\n",
       "        1.78443259e-04,  2.06779815e-04,  2.38201382e-04,  2.73413280e-04,\n",
       "        3.13354547e-04,  3.59304835e-04,  4.13055399e-04,  4.77194175e-04,\n",
       "        5.55604951e-04,  6.54395317e-04,  7.83755375e-04,  9.62056613e-04,\n",
       "        1.22613945e-03,  1.66239973e-03,  2.53314513e-03,  5.21206415e-03])"
      ]
     },
     "execution_count": 16,
     "metadata": {},
     "output_type": "execute_result"
    }
   ],
   "source": [
    "f_trapz"
   ]
  },
  {
   "cell_type": "code",
   "execution_count": 17,
   "metadata": {},
   "outputs": [
    {
     "data": {
      "text/plain": [
       "array([-1.25767452e-19, -1.29472983e-03, -6.10604683e-04,  2.92240952e-05,\n",
       "        1.97537370e-05,  1.60371901e-05,  1.39759435e-05,  1.26456652e-05,\n",
       "        1.17086021e-05,  1.10092590e-05,  1.04652960e-05,  1.00287644e-05,\n",
       "        9.66974043e-06,  9.36853525e-06,  9.11164020e-06,  8.88946624e-06,\n",
       "        8.69501168e-06,  8.52304058e-06,  8.36955655e-06,  8.23145472e-06,\n",
       "        8.10628498e-06,  7.99208715e-06,  7.88727353e-06,  7.79054384e-06,\n",
       "        7.70082243e-06,  7.61721127e-06,  7.53895431e-06,  7.46541003e-06,\n",
       "        7.39603012e-06,  7.33034274e-06,  7.26793924e-06,  7.20846353e-06,\n",
       "        7.15160349e-06,  7.09708397e-06,  7.04466110e-06,  6.99411754e-06,\n",
       "        6.94525855e-06,  6.89790873e-06,  6.85190920e-06,  6.80711530e-06,\n",
       "        6.76339457e-06,  6.72062499e-06,  6.67869355e-06,  6.63749489e-06,\n",
       "        6.59693022e-06,  6.55690622e-06,  6.51733420e-06,  6.47812925e-06,\n",
       "        6.43920945e-06,  6.40049524e-06,  6.36190868e-06,  6.32337288e-06,\n",
       "        6.28481132e-06,  6.24614732e-06,  6.20730334e-06,  6.16820040e-06,\n",
       "        6.12875745e-06,  6.08889061e-06,  6.04851250e-06,  6.00753142e-06,\n",
       "        5.96585044e-06,  5.92336644e-06,  5.87996902e-06,  5.83553924e-06,\n",
       "        5.78994820e-06,  5.74305536e-06,  5.69470669e-06,  5.64473238e-06,\n",
       "        5.59294427e-06,  5.53913267e-06,  5.48306272e-06,  5.42446989e-06,\n",
       "        5.36305459e-06,  5.29847564e-06,  5.23034223e-06,  5.15820395e-06,\n",
       "        5.08153844e-06,  4.99973580e-06,  4.91207880e-06,  4.81771755e-06,\n",
       "        4.71563660e-06,  4.60461172e-06,  4.48315246e-06,  4.34942447e-06,\n",
       "        4.20114289e-06,  4.03542319e-06,  3.84856805e-06,  3.63575571e-06,\n",
       "        3.39057127e-06,  3.10427938e-06,  2.76465212e-06,  2.35399319e-06,\n",
       "        1.84561801e-06,  1.19713283e-06,  3.36389738e-07, -8.71695762e-07,\n",
       "       -2.71882113e-06, -6.00550121e-06, -1.43778473e-05,  1.29061143e-03])"
      ]
     },
     "execution_count": 17,
     "metadata": {},
     "output_type": "execute_result"
    }
   ],
   "source": [
    "f_simps"
   ]
  }
 ],
 "metadata": {
  "kernelspec": {
   "display_name": "Python 3",
   "language": "python",
   "name": "python3"
  },
  "language_info": {
   "codemirror_mode": {
    "name": "ipython",
    "version": 3
   },
   "file_extension": ".py",
   "mimetype": "text/x-python",
   "name": "python",
   "nbconvert_exporter": "python",
   "pygments_lexer": "ipython3",
   "version": "3.11.1"
  },
  "orig_nbformat": 4
 },
 "nbformat": 4,
 "nbformat_minor": 2
}
